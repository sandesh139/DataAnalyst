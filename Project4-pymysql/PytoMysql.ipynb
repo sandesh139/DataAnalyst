{
 "cells": [
  {
   "cell_type": "code",
   "execution_count": 1,
   "metadata": {},
   "outputs": [],
   "source": [
    "import pymysql\n",
    "import pandas as pd"
   ]
  },
  {
   "cell_type": "code",
   "execution_count": null,
   "metadata": {},
   "outputs": [],
   "source": [
    "#Connect to mysql database through pymysql\n",
    "conn = pymysql.connect(database = 'di_automobile', user = 'pymytest', password = 'nepal')"
   ]
  },
  {
   "cell_type": "code",
   "execution_count": null,
   "metadata": {},
   "outputs": [],
   "source": [
    "try:\n",
    "    cursor = conn.cursor()                                \n",
    "    sqlStatement = \"CREATE DATABASE DI_Automobile;\"\n",
    "    cursor.execute(sqlStatement)\n",
    "except Exception as e:\n",
    "    print(\"Exeception occured:{}\".format(e))\n",
    "finally:\n",
    "    conn.close()"
   ]
  },
  {
   "cell_type": "code",
   "execution_count": null,
   "metadata": {},
   "outputs": [],
   "source": [
    "#insert into the database and commit.\n",
    "try:\n",
    "    cursor = conn.cursor()                                \n",
    "    #sqlQuery = \"CREATE TABLE myCars(indexID int, Company varchar(30), bodystyle varchar(30),wheelbase decimal(10,2),length decimal(10,2),enginetype varchar(30),numofcylinders varchar(20),horsepower int,averagemileage int,price int);\"\n",
    "    sqlQuery = \"\"\"INSERT INTO mycars VALUES  (2,'alfa-romero','hatchback',88.6,168.8,'dohc','six',111,21,16500)\"\"\"\n",
    "    cursor.execute(sqlQuery)\n",
    "    conn.commit()\n",
    "except Exception as e:\n",
    "    print(\"Exeception occured:{}\".format(e))\n",
    "finally:\n",
    "    conn.close()"
   ]
  },
  {
   "cell_type": "code",
   "execution_count": 2,
   "metadata": {},
   "outputs": [],
   "source": [
    "conn = pymysql.connect(database = 'sakila', user = 'pymytest', password = 'nepal')"
   ]
  },
  {
   "cell_type": "code",
   "execution_count": 3,
   "metadata": {},
   "outputs": [],
   "source": [
    "cursor = conn.cursor()"
   ]
  },
  {
   "cell_type": "code",
   "execution_count": 4,
   "metadata": {},
   "outputs": [
    {
     "data": {
      "text/plain": [
       "0       ACADEMY DINOSAUR\n",
       "1         ACE GOLDFINGER\n",
       "2       ADAPTATION HOLES\n",
       "3       AFFAIR PREJUDICE\n",
       "4            AFRICAN EGG\n",
       "             ...        \n",
       "995       YOUNG LANGUAGE\n",
       "996           YOUTH KICK\n",
       "997         ZHIVAGO CORE\n",
       "998    ZOOLANDER FICTION\n",
       "999            ZORRO ARK\n",
       "Name: title, Length: 1000, dtype: object"
      ]
     },
     "execution_count": 4,
     "metadata": {},
     "output_type": "execute_result"
    }
   ],
   "source": [
    "# Set SQL query as a comment\n",
    "sql_query = ''' SELECT * FROM film '''\n",
    "df = pd.read_sql(sql_query, conn)\n",
    "\n",
    "df['title']"
   ]
  },
  {
   "cell_type": "code",
   "execution_count": 5,
   "metadata": {},
   "outputs": [],
   "source": [
    "sql_query1 = ''' SELECT f.title, a.first_name, a.last_name FROM film_actor as fa join film as f on fa.film_id = f.film_id join actor as a on a.actor_id = fa.film_id'''\n",
    "df1 = pd.read_sql(sql_query1, conn)\n"
   ]
  },
  {
   "cell_type": "code",
   "execution_count": null,
   "metadata": {},
   "outputs": [],
   "source": [
    "df1"
   ]
  }
 ],
 "metadata": {
  "kernelspec": {
   "display_name": "Python 3",
   "language": "python",
   "name": "python3"
  },
  "language_info": {
   "codemirror_mode": {
    "name": "ipython",
    "version": 3
   },
   "file_extension": ".py",
   "mimetype": "text/x-python",
   "name": "python",
   "nbconvert_exporter": "python",
   "pygments_lexer": "ipython3",
   "version": "3.7.4"
  }
 },
 "nbformat": 4,
 "nbformat_minor": 2
}
