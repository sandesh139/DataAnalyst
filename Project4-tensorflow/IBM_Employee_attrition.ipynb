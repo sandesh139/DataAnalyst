{
 "cells": [
  {
   "cell_type": "code",
   "execution_count": 1,
   "metadata": {},
   "outputs": [],
   "source": [
    "import pandas as pd\n",
    "import numpy as np\n",
    "\n",
    "# Make numpy values easier to read.\n",
    "np.set_printoptions(precision=3, suppress=True)\n",
    "\n",
    "import tensorflow as tf\n",
    "from tensorflow.keras import layers\n",
    "from tensorflow.keras.layers.experimental import preprocessing\n"
   ]
  },
  {
   "cell_type": "code",
   "execution_count": 2,
   "metadata": {},
   "outputs": [
    {
     "data": {
      "text/html": [
       "<div>\n",
       "<style scoped>\n",
       "    .dataframe tbody tr th:only-of-type {\n",
       "        vertical-align: middle;\n",
       "    }\n",
       "\n",
       "    .dataframe tbody tr th {\n",
       "        vertical-align: top;\n",
       "    }\n",
       "\n",
       "    .dataframe thead th {\n",
       "        text-align: right;\n",
       "    }\n",
       "</style>\n",
       "<table border=\"1\" class=\"dataframe\">\n",
       "  <thead>\n",
       "    <tr style=\"text-align: right;\">\n",
       "      <th></th>\n",
       "      <th>Age</th>\n",
       "      <th>Attrition</th>\n",
       "      <th>BusinessTravel</th>\n",
       "      <th>DailyRate</th>\n",
       "      <th>Department</th>\n",
       "      <th>DistanceFromHome</th>\n",
       "      <th>Education</th>\n",
       "      <th>EducationField</th>\n",
       "      <th>EmployeeCount</th>\n",
       "      <th>EmployeeNumber</th>\n",
       "      <th>...</th>\n",
       "      <th>RelationshipSatisfaction</th>\n",
       "      <th>StandardHours</th>\n",
       "      <th>StockOptionLevel</th>\n",
       "      <th>TotalWorkingYears</th>\n",
       "      <th>TrainingTimesLastYear</th>\n",
       "      <th>WorkLifeBalance</th>\n",
       "      <th>YearsAtCompany</th>\n",
       "      <th>YearsInCurrentRole</th>\n",
       "      <th>YearsSinceLastPromotion</th>\n",
       "      <th>YearsWithCurrManager</th>\n",
       "    </tr>\n",
       "  </thead>\n",
       "  <tbody>\n",
       "    <tr>\n",
       "      <td>0</td>\n",
       "      <td>41</td>\n",
       "      <td>0</td>\n",
       "      <td>Travel_Rarely</td>\n",
       "      <td>1102</td>\n",
       "      <td>Sales</td>\n",
       "      <td>1</td>\n",
       "      <td>2</td>\n",
       "      <td>Life Sciences</td>\n",
       "      <td>1</td>\n",
       "      <td>1</td>\n",
       "      <td>...</td>\n",
       "      <td>1</td>\n",
       "      <td>80</td>\n",
       "      <td>0</td>\n",
       "      <td>8</td>\n",
       "      <td>0</td>\n",
       "      <td>1</td>\n",
       "      <td>6</td>\n",
       "      <td>4</td>\n",
       "      <td>0</td>\n",
       "      <td>5</td>\n",
       "    </tr>\n",
       "    <tr>\n",
       "      <td>1</td>\n",
       "      <td>49</td>\n",
       "      <td>1</td>\n",
       "      <td>Travel_Frequently</td>\n",
       "      <td>279</td>\n",
       "      <td>Research &amp; Development</td>\n",
       "      <td>8</td>\n",
       "      <td>1</td>\n",
       "      <td>Life Sciences</td>\n",
       "      <td>1</td>\n",
       "      <td>2</td>\n",
       "      <td>...</td>\n",
       "      <td>4</td>\n",
       "      <td>80</td>\n",
       "      <td>1</td>\n",
       "      <td>10</td>\n",
       "      <td>3</td>\n",
       "      <td>3</td>\n",
       "      <td>10</td>\n",
       "      <td>7</td>\n",
       "      <td>1</td>\n",
       "      <td>7</td>\n",
       "    </tr>\n",
       "    <tr>\n",
       "      <td>2</td>\n",
       "      <td>37</td>\n",
       "      <td>0</td>\n",
       "      <td>Travel_Rarely</td>\n",
       "      <td>1373</td>\n",
       "      <td>Research &amp; Development</td>\n",
       "      <td>2</td>\n",
       "      <td>2</td>\n",
       "      <td>Other</td>\n",
       "      <td>1</td>\n",
       "      <td>4</td>\n",
       "      <td>...</td>\n",
       "      <td>2</td>\n",
       "      <td>80</td>\n",
       "      <td>0</td>\n",
       "      <td>7</td>\n",
       "      <td>3</td>\n",
       "      <td>3</td>\n",
       "      <td>0</td>\n",
       "      <td>0</td>\n",
       "      <td>0</td>\n",
       "      <td>0</td>\n",
       "    </tr>\n",
       "    <tr>\n",
       "      <td>3</td>\n",
       "      <td>33</td>\n",
       "      <td>1</td>\n",
       "      <td>Travel_Frequently</td>\n",
       "      <td>1392</td>\n",
       "      <td>Research &amp; Development</td>\n",
       "      <td>3</td>\n",
       "      <td>4</td>\n",
       "      <td>Life Sciences</td>\n",
       "      <td>1</td>\n",
       "      <td>5</td>\n",
       "      <td>...</td>\n",
       "      <td>3</td>\n",
       "      <td>80</td>\n",
       "      <td>0</td>\n",
       "      <td>8</td>\n",
       "      <td>3</td>\n",
       "      <td>3</td>\n",
       "      <td>8</td>\n",
       "      <td>7</td>\n",
       "      <td>3</td>\n",
       "      <td>0</td>\n",
       "    </tr>\n",
       "    <tr>\n",
       "      <td>4</td>\n",
       "      <td>27</td>\n",
       "      <td>1</td>\n",
       "      <td>Travel_Rarely</td>\n",
       "      <td>591</td>\n",
       "      <td>Research &amp; Development</td>\n",
       "      <td>2</td>\n",
       "      <td>1</td>\n",
       "      <td>Medical</td>\n",
       "      <td>1</td>\n",
       "      <td>7</td>\n",
       "      <td>...</td>\n",
       "      <td>4</td>\n",
       "      <td>80</td>\n",
       "      <td>1</td>\n",
       "      <td>6</td>\n",
       "      <td>3</td>\n",
       "      <td>3</td>\n",
       "      <td>2</td>\n",
       "      <td>2</td>\n",
       "      <td>2</td>\n",
       "      <td>2</td>\n",
       "    </tr>\n",
       "  </tbody>\n",
       "</table>\n",
       "<p>5 rows × 35 columns</p>\n",
       "</div>"
      ],
      "text/plain": [
       "   Age  Attrition     BusinessTravel  DailyRate              Department  \\\n",
       "0   41          0      Travel_Rarely       1102                   Sales   \n",
       "1   49          1  Travel_Frequently        279  Research & Development   \n",
       "2   37          0      Travel_Rarely       1373  Research & Development   \n",
       "3   33          1  Travel_Frequently       1392  Research & Development   \n",
       "4   27          1      Travel_Rarely        591  Research & Development   \n",
       "\n",
       "   DistanceFromHome  Education EducationField  EmployeeCount  EmployeeNumber  \\\n",
       "0                 1          2  Life Sciences              1               1   \n",
       "1                 8          1  Life Sciences              1               2   \n",
       "2                 2          2          Other              1               4   \n",
       "3                 3          4  Life Sciences              1               5   \n",
       "4                 2          1        Medical              1               7   \n",
       "\n",
       "   ...  RelationshipSatisfaction StandardHours  StockOptionLevel  \\\n",
       "0  ...                         1            80                 0   \n",
       "1  ...                         4            80                 1   \n",
       "2  ...                         2            80                 0   \n",
       "3  ...                         3            80                 0   \n",
       "4  ...                         4            80                 1   \n",
       "\n",
       "   TotalWorkingYears  TrainingTimesLastYear WorkLifeBalance  YearsAtCompany  \\\n",
       "0                  8                      0               1               6   \n",
       "1                 10                      3               3              10   \n",
       "2                  7                      3               3               0   \n",
       "3                  8                      3               3               8   \n",
       "4                  6                      3               3               2   \n",
       "\n",
       "  YearsInCurrentRole  YearsSinceLastPromotion  YearsWithCurrManager  \n",
       "0                  4                        0                     5  \n",
       "1                  7                        1                     7  \n",
       "2                  0                        0                     0  \n",
       "3                  7                        3                     0  \n",
       "4                  2                        2                     2  \n",
       "\n",
       "[5 rows x 35 columns]"
      ]
     },
     "execution_count": 2,
     "metadata": {},
     "output_type": "execute_result"
    }
   ],
   "source": [
    "data = pd.read_csv(\"WA_Fn-UseC_-HR-Employee-Attrition.csv\", sep = ',')\n",
    "data['Attrition'] = data['Attrition'].map({'Yes':0 ,'No':1})\n",
    "data.head()"
   ]
  },
  {
   "cell_type": "code",
   "execution_count": 3,
   "metadata": {},
   "outputs": [],
   "source": [
    "data_features = data.copy()\n",
    "data_labels = data_features.pop('Attrition')\n",
    "\n"
   ]
  },
  {
   "cell_type": "code",
   "execution_count": 4,
   "metadata": {},
   "outputs": [
    {
     "data": {
      "text/plain": [
       "<KerasTensor: shape=(None,) dtype=float32 (created by layer 'tf.__operators__.add')>"
      ]
     },
     "execution_count": 4,
     "metadata": {},
     "output_type": "execute_result"
    }
   ],
   "source": [
    "# Create a symbolic input\n",
    "input = tf.keras.Input(shape=(), dtype=tf.float32)\n",
    "\n",
    "# Do a calculation using is\n",
    "result = 2*input + 1\n",
    "\n",
    "# the result doesn't have a value\n",
    "result"
   ]
  },
  {
   "cell_type": "code",
   "execution_count": 5,
   "metadata": {},
   "outputs": [
    {
     "data": {
      "text/plain": [
       "{'Age': <KerasTensor: shape=(None, 1) dtype=float32 (created by layer 'Age')>,\n",
       " 'BusinessTravel': <KerasTensor: shape=(None, 1) dtype=string (created by layer 'BusinessTravel')>,\n",
       " 'DailyRate': <KerasTensor: shape=(None, 1) dtype=float32 (created by layer 'DailyRate')>,\n",
       " 'Department': <KerasTensor: shape=(None, 1) dtype=string (created by layer 'Department')>,\n",
       " 'DistanceFromHome': <KerasTensor: shape=(None, 1) dtype=float32 (created by layer 'DistanceFromHome')>,\n",
       " 'Education': <KerasTensor: shape=(None, 1) dtype=float32 (created by layer 'Education')>,\n",
       " 'EducationField': <KerasTensor: shape=(None, 1) dtype=string (created by layer 'EducationField')>,\n",
       " 'EmployeeCount': <KerasTensor: shape=(None, 1) dtype=float32 (created by layer 'EmployeeCount')>,\n",
       " 'EmployeeNumber': <KerasTensor: shape=(None, 1) dtype=float32 (created by layer 'EmployeeNumber')>,\n",
       " 'EnvironmentSatisfaction': <KerasTensor: shape=(None, 1) dtype=float32 (created by layer 'EnvironmentSatisfaction')>,\n",
       " 'Gender': <KerasTensor: shape=(None, 1) dtype=string (created by layer 'Gender')>,\n",
       " 'HourlyRate': <KerasTensor: shape=(None, 1) dtype=float32 (created by layer 'HourlyRate')>,\n",
       " 'JobInvolvement': <KerasTensor: shape=(None, 1) dtype=float32 (created by layer 'JobInvolvement')>,\n",
       " 'JobLevel': <KerasTensor: shape=(None, 1) dtype=float32 (created by layer 'JobLevel')>,\n",
       " 'JobRole': <KerasTensor: shape=(None, 1) dtype=string (created by layer 'JobRole')>,\n",
       " 'JobSatisfaction': <KerasTensor: shape=(None, 1) dtype=float32 (created by layer 'JobSatisfaction')>,\n",
       " 'MaritalStatus': <KerasTensor: shape=(None, 1) dtype=string (created by layer 'MaritalStatus')>,\n",
       " 'MonthlyIncome': <KerasTensor: shape=(None, 1) dtype=float32 (created by layer 'MonthlyIncome')>,\n",
       " 'MonthlyRate': <KerasTensor: shape=(None, 1) dtype=float32 (created by layer 'MonthlyRate')>,\n",
       " 'NumCompaniesWorked': <KerasTensor: shape=(None, 1) dtype=float32 (created by layer 'NumCompaniesWorked')>,\n",
       " 'Over18': <KerasTensor: shape=(None, 1) dtype=string (created by layer 'Over18')>,\n",
       " 'OverTime': <KerasTensor: shape=(None, 1) dtype=string (created by layer 'OverTime')>,\n",
       " 'PercentSalaryHike': <KerasTensor: shape=(None, 1) dtype=float32 (created by layer 'PercentSalaryHike')>,\n",
       " 'PerformanceRating': <KerasTensor: shape=(None, 1) dtype=float32 (created by layer 'PerformanceRating')>,\n",
       " 'RelationshipSatisfaction': <KerasTensor: shape=(None, 1) dtype=float32 (created by layer 'RelationshipSatisfaction')>,\n",
       " 'StandardHours': <KerasTensor: shape=(None, 1) dtype=float32 (created by layer 'StandardHours')>,\n",
       " 'StockOptionLevel': <KerasTensor: shape=(None, 1) dtype=float32 (created by layer 'StockOptionLevel')>,\n",
       " 'TotalWorkingYears': <KerasTensor: shape=(None, 1) dtype=float32 (created by layer 'TotalWorkingYears')>,\n",
       " 'TrainingTimesLastYear': <KerasTensor: shape=(None, 1) dtype=float32 (created by layer 'TrainingTimesLastYear')>,\n",
       " 'WorkLifeBalance': <KerasTensor: shape=(None, 1) dtype=float32 (created by layer 'WorkLifeBalance')>,\n",
       " 'YearsAtCompany': <KerasTensor: shape=(None, 1) dtype=float32 (created by layer 'YearsAtCompany')>,\n",
       " 'YearsInCurrentRole': <KerasTensor: shape=(None, 1) dtype=float32 (created by layer 'YearsInCurrentRole')>,\n",
       " 'YearsSinceLastPromotion': <KerasTensor: shape=(None, 1) dtype=float32 (created by layer 'YearsSinceLastPromotion')>,\n",
       " 'YearsWithCurrManager': <KerasTensor: shape=(None, 1) dtype=float32 (created by layer 'YearsWithCurrManager')>}"
      ]
     },
     "execution_count": 5,
     "metadata": {},
     "output_type": "execute_result"
    }
   ],
   "source": [
    "inputs = {}\n",
    "\n",
    "for name, column in data_features.items():\n",
    "    dtype = column.dtype\n",
    "    if dtype == object:\n",
    "        dtype = tf.string\n",
    "    else:\n",
    "        dtype = tf.float32\n",
    "    inputs[name] = tf.keras.Input(shape=(1,), name=name, dtype=dtype)\n",
    "\n",
    "inputs"
   ]
  },
  {
   "cell_type": "code",
   "execution_count": 6,
   "metadata": {},
   "outputs": [
    {
     "data": {
      "text/plain": [
       "<KerasTensor: shape=(None, 26) dtype=float32 (created by layer 'normalization')>"
      ]
     },
     "execution_count": 6,
     "metadata": {},
     "output_type": "execute_result"
    }
   ],
   "source": [
    "numeric_inputs = {name:input for name,input in inputs.items()\n",
    "                  if input.dtype==tf.float32}\n",
    "\n",
    "x = layers.Concatenate()(list(numeric_inputs.values()))\n",
    "norm = preprocessing.Normalization()\n",
    "norm.adapt(np.array(data[numeric_inputs.keys()]))\n",
    "all_numeric_inputs = norm(x)\n",
    "\n",
    "all_numeric_inputs"
   ]
  },
  {
   "cell_type": "code",
   "execution_count": 7,
   "metadata": {},
   "outputs": [],
   "source": [
    "preprocessed_inputs = [all_numeric_inputs]"
   ]
  },
  {
   "cell_type": "code",
   "execution_count": 8,
   "metadata": {},
   "outputs": [],
   "source": [
    "for name, input in inputs.items():\n",
    "    if input.dtype == tf.float32:\n",
    "        continue\n",
    "    lookup = preprocessing.StringLookup(vocabulary=np.unique(data_features[name]))\n",
    "    one_hot = preprocessing.CategoryEncoding(max_tokens=lookup.vocab_size())\n",
    "    x = lookup(input)\n",
    "    x = one_hot(x)\n",
    "    preprocessed_inputs.append(x)"
   ]
  },
  {
   "cell_type": "code",
   "execution_count": 9,
   "metadata": {},
   "outputs": [],
   "source": [
    "preprocessed_inputs_cat = layers.Concatenate()(preprocessed_inputs)\n",
    "data_preprocessing = tf.keras.Model(inputs, preprocessed_inputs_cat)\n"
   ]
  },
  {
   "cell_type": "code",
   "execution_count": 10,
   "metadata": {},
   "outputs": [],
   "source": [
    "data_features_dict = {name: np.array(value) \n",
    "                         for name, value in data_features.items()}\n"
   ]
  },
  {
   "cell_type": "code",
   "execution_count": 11,
   "metadata": {},
   "outputs": [
    {
     "data": {
      "text/plain": [
       "<tf.Tensor: shape=(1, 71), dtype=float32, numpy=\n",
       "array([[ 0.446,  0.743, -1.011, -0.892,  0.   , -1.701, -0.661,  1.383,\n",
       "         0.38 , -0.058,  1.153, -0.108,  0.726,  2.125, -1.151, -0.426,\n",
       "        -1.584,  0.   , -0.932, -0.422, -2.172, -2.494, -0.165, -0.063,\n",
       "        -0.679,  0.246,  0.   ,  0.   ,  0.   ,  0.   ,  1.   ,  0.   ,\n",
       "         0.   ,  0.   ,  0.   ,  1.   ,  0.   ,  0.   ,  0.   ,  1.   ,\n",
       "         0.   ,  0.   ,  0.   ,  0.   ,  0.   ,  0.   ,  1.   ,  0.   ,\n",
       "         0.   ,  0.   ,  0.   ,  0.   ,  0.   ,  0.   ,  0.   ,  0.   ,\n",
       "         0.   ,  1.   ,  0.   ,  0.   ,  0.   ,  0.   ,  0.   ,  1.   ,\n",
       "         0.   ,  0.   ,  1.   ,  0.   ,  0.   ,  0.   ,  1.   ]],\n",
       "      dtype=float32)>"
      ]
     },
     "execution_count": 11,
     "metadata": {},
     "output_type": "execute_result"
    }
   ],
   "source": [
    "features_dict = {name:values[:1] for name, values in data_features_dict.items()}\n",
    "data_preprocessing(features_dict)"
   ]
  },
  {
   "cell_type": "code",
   "execution_count": 12,
   "metadata": {},
   "outputs": [],
   "source": [
    "def data_model(preprocessing_head, inputs):\n",
    "    body = tf.keras.Sequential([\n",
    "        layers.Dense(64),\n",
    "        layers.Dense(1)\n",
    "    ])\n",
    "    preprocessed_inputs = preprocessing_head(inputs)\n",
    "    result = body(preprocessed_inputs)\n",
    "    model = tf.keras.Model(inputs, result)\n",
    "    model.compile(loss=tf.losses.BinaryCrossentropy(from_logits=True),\n",
    "                optimizer=tf.optimizers.Adam())\n",
    "    return model\n",
    "\n",
    "data_model = data_model(data_preprocessing, inputs)"
   ]
  },
  {
   "cell_type": "code",
   "execution_count": 13,
   "metadata": {},
   "outputs": [
    {
     "name": "stdout",
     "output_type": "stream",
     "text": [
      "Epoch 1/10\n",
      "46/46 [==============================] - 2s 3ms/step - loss: 0.6275\n",
      "Epoch 2/10\n",
      "46/46 [==============================] - 0s 6ms/step - loss: 0.3787\n",
      "Epoch 3/10\n",
      "46/46 [==============================] - 0s 3ms/step - loss: 0.3158\n",
      "Epoch 4/10\n",
      "46/46 [==============================] - 0s 3ms/step - loss: 0.3302\n",
      "Epoch 5/10\n",
      "46/46 [==============================] - 0s 3ms/step - loss: 0.2865\n",
      "Epoch 6/10\n",
      "46/46 [==============================] - 0s 3ms/step - loss: 0.2874\n",
      "Epoch 7/10\n",
      "46/46 [==============================] - 0s 4ms/step - loss: 0.3314\n",
      "Epoch 8/10\n",
      "46/46 [==============================] - 0s 5ms/step - loss: 0.3010\n",
      "Epoch 9/10\n",
      "46/46 [==============================] - 0s 5ms/step - loss: 0.2879\n",
      "Epoch 10/10\n",
      "46/46 [==============================] - 0s 3ms/step - loss: 0.2925\n"
     ]
    },
    {
     "data": {
      "text/plain": [
       "<tensorflow.python.keras.callbacks.History at 0x209014ab588>"
      ]
     },
     "execution_count": 13,
     "metadata": {},
     "output_type": "execute_result"
    }
   ],
   "source": [
    "data_model.fit(x=data_features_dict, y=data_labels, epochs=10)"
   ]
  },
  {
   "cell_type": "code",
   "execution_count": 14,
   "metadata": {},
   "outputs": [],
   "source": [
    "ynew = data_model.predict(data_features_dict)"
   ]
  },
  {
   "cell_type": "code",
   "execution_count": 15,
   "metadata": {},
   "outputs": [
    {
     "data": {
      "text/plain": [
       "array([[-1.039],\n",
       "       [ 3.745],\n",
       "       [-0.761],\n",
       "       [ 1.79 ],\n",
       "       [ 0.41 ],\n",
       "       [ 2.192],\n",
       "       [ 1.388],\n",
       "       [ 2.03 ],\n",
       "       [ 2.636],\n",
       "       [ 2.559],\n",
       "       [ 2.837],\n",
       "       [ 1.193],\n",
       "       [ 1.387],\n",
       "       [ 2.699],\n",
       "       [-2.198]], dtype=float32)"
      ]
     },
     "execution_count": 15,
     "metadata": {},
     "output_type": "execute_result"
    }
   ],
   "source": [
    "ynew[:15]"
   ]
  },
  {
   "cell_type": "code",
   "execution_count": null,
   "metadata": {},
   "outputs": [],
   "source": []
  }
 ],
 "metadata": {
  "kernelspec": {
   "display_name": "Python 3",
   "language": "python",
   "name": "python3"
  },
  "language_info": {
   "codemirror_mode": {
    "name": "ipython",
    "version": 3
   },
   "file_extension": ".py",
   "mimetype": "text/x-python",
   "name": "python",
   "nbconvert_exporter": "python",
   "pygments_lexer": "ipython3",
   "version": "3.7.4"
  }
 },
 "nbformat": 4,
 "nbformat_minor": 2
}
